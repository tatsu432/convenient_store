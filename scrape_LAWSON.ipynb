{
 "cells": [
  {
   "cell_type": "code",
   "execution_count": 1,
   "metadata": {},
   "outputs": [],
   "source": [
    "# import the modules and libraries\n",
    "from selenium import webdriver\n",
    "from time import sleep\n",
    "from selenium.webdriver.common.keys import Keys\n",
    "import requests\n",
    "from bs4 import BeautifulSoup\n",
    "import re\n",
    "\n",
    "import scrape_module5"
   ]
  },
  {
   "cell_type": "code",
   "execution_count": 5,
   "metadata": {},
   "outputs": [
    {
     "ename": "WebDriverException",
     "evalue": "Message: unknown error: cannot determine loading status\nfrom unknown error: unexpected command response\n  (Session info: chrome=103.0.5060.134)\n",
     "output_type": "error",
     "traceback": [
      "\u001b[1;31m---------------------------------------------------------------------------\u001b[0m",
      "\u001b[1;31mWebDriverException\u001b[0m                        Traceback (most recent call last)",
      "\u001b[1;32m~\\AppData\\Local\\Temp/ipykernel_3632/3381391654.py\u001b[0m in \u001b[0;36m<module>\u001b[1;34m\u001b[0m\n\u001b[0;32m      3\u001b[0m \u001b[0mEnglish_word\u001b[0m \u001b[1;33m=\u001b[0m \u001b[1;34m\"LAWSON\"\u001b[0m\u001b[1;33m\u001b[0m\u001b[1;33m\u001b[0m\u001b[0m\n\u001b[0;32m      4\u001b[0m \u001b[1;33m\u001b[0m\u001b[0m\n\u001b[1;32m----> 5\u001b[1;33m \u001b[0mscrape_module5\u001b[0m\u001b[1;33m.\u001b[0m\u001b[0mscrape_convenience\u001b[0m\u001b[1;33m(\u001b[0m\u001b[0msearch_word\u001b[0m\u001b[1;33m,\u001b[0m \u001b[0mlists_LAWSON\u001b[0m\u001b[1;33m,\u001b[0m \u001b[0mEnglish_word\u001b[0m\u001b[1;33m)\u001b[0m\u001b[1;33m\u001b[0m\u001b[1;33m\u001b[0m\u001b[0m\n\u001b[0m",
      "\u001b[1;32mc:\\Users\\81808\\document1\\self_study\\Scraping\\convenience_store\\scrape_module5.py\u001b[0m in \u001b[0;36mscrape_convenience\u001b[1;34m(search_word, lists_convenient_store, english_word)\u001b[0m\n\u001b[0;32m     47\u001b[0m \u001b[1;33m\u001b[0m\u001b[0m\n\u001b[0;32m     48\u001b[0m         \u001b[1;31m# go to the MapFan site\u001b[0m\u001b[1;33m\u001b[0m\u001b[1;33m\u001b[0m\u001b[1;33m\u001b[0m\u001b[0m\n\u001b[1;32m---> 49\u001b[1;33m         \u001b[0mdriver\u001b[0m\u001b[1;33m.\u001b[0m\u001b[0mget\u001b[0m\u001b[1;33m(\u001b[0m\u001b[1;34m'https://mapfan.com/map/spots/search?c=35.681195934673795,139.7672311841094,12&s=std,pc,ja&p=none'\u001b[0m\u001b[1;33m)\u001b[0m\u001b[1;33m\u001b[0m\u001b[1;33m\u001b[0m\u001b[0m\n\u001b[0m\u001b[0;32m     50\u001b[0m         \u001b[0msleep\u001b[0m\u001b[1;33m(\u001b[0m\u001b[1;36m1\u001b[0m\u001b[1;33m)\u001b[0m\u001b[1;33m\u001b[0m\u001b[1;33m\u001b[0m\u001b[0m\n\u001b[0;32m     51\u001b[0m \u001b[1;33m\u001b[0m\u001b[0m\n",
      "\u001b[1;32mc:\\Users\\81808\\anaconda3\\envs\\py38\\lib\\site-packages\\selenium\\webdriver\\remote\\webdriver.py\u001b[0m in \u001b[0;36mget\u001b[1;34m(self, url)\u001b[0m\n\u001b[0;32m    331\u001b[0m         \u001b[0mLoads\u001b[0m \u001b[0ma\u001b[0m \u001b[0mweb\u001b[0m \u001b[0mpage\u001b[0m \u001b[1;32min\u001b[0m \u001b[0mthe\u001b[0m \u001b[0mcurrent\u001b[0m \u001b[0mbrowser\u001b[0m \u001b[0msession\u001b[0m\u001b[1;33m.\u001b[0m\u001b[1;33m\u001b[0m\u001b[1;33m\u001b[0m\u001b[0m\n\u001b[0;32m    332\u001b[0m         \"\"\"\n\u001b[1;32m--> 333\u001b[1;33m         \u001b[0mself\u001b[0m\u001b[1;33m.\u001b[0m\u001b[0mexecute\u001b[0m\u001b[1;33m(\u001b[0m\u001b[0mCommand\u001b[0m\u001b[1;33m.\u001b[0m\u001b[0mGET\u001b[0m\u001b[1;33m,\u001b[0m \u001b[1;33m{\u001b[0m\u001b[1;34m'url'\u001b[0m\u001b[1;33m:\u001b[0m \u001b[0murl\u001b[0m\u001b[1;33m}\u001b[0m\u001b[1;33m)\u001b[0m\u001b[1;33m\u001b[0m\u001b[1;33m\u001b[0m\u001b[0m\n\u001b[0m\u001b[0;32m    334\u001b[0m \u001b[1;33m\u001b[0m\u001b[0m\n\u001b[0;32m    335\u001b[0m     \u001b[1;33m@\u001b[0m\u001b[0mproperty\u001b[0m\u001b[1;33m\u001b[0m\u001b[1;33m\u001b[0m\u001b[0m\n",
      "\u001b[1;32mc:\\Users\\81808\\anaconda3\\envs\\py38\\lib\\site-packages\\selenium\\webdriver\\remote\\webdriver.py\u001b[0m in \u001b[0;36mexecute\u001b[1;34m(self, driver_command, params)\u001b[0m\n\u001b[0;32m    319\u001b[0m         \u001b[0mresponse\u001b[0m \u001b[1;33m=\u001b[0m \u001b[0mself\u001b[0m\u001b[1;33m.\u001b[0m\u001b[0mcommand_executor\u001b[0m\u001b[1;33m.\u001b[0m\u001b[0mexecute\u001b[0m\u001b[1;33m(\u001b[0m\u001b[0mdriver_command\u001b[0m\u001b[1;33m,\u001b[0m \u001b[0mparams\u001b[0m\u001b[1;33m)\u001b[0m\u001b[1;33m\u001b[0m\u001b[1;33m\u001b[0m\u001b[0m\n\u001b[0;32m    320\u001b[0m         \u001b[1;32mif\u001b[0m \u001b[0mresponse\u001b[0m\u001b[1;33m:\u001b[0m\u001b[1;33m\u001b[0m\u001b[1;33m\u001b[0m\u001b[0m\n\u001b[1;32m--> 321\u001b[1;33m             \u001b[0mself\u001b[0m\u001b[1;33m.\u001b[0m\u001b[0merror_handler\u001b[0m\u001b[1;33m.\u001b[0m\u001b[0mcheck_response\u001b[0m\u001b[1;33m(\u001b[0m\u001b[0mresponse\u001b[0m\u001b[1;33m)\u001b[0m\u001b[1;33m\u001b[0m\u001b[1;33m\u001b[0m\u001b[0m\n\u001b[0m\u001b[0;32m    322\u001b[0m             response['value'] = self._unwrap_value(\n\u001b[0;32m    323\u001b[0m                 response.get('value', None))\n",
      "\u001b[1;32mc:\\Users\\81808\\anaconda3\\envs\\py38\\lib\\site-packages\\selenium\\webdriver\\remote\\errorhandler.py\u001b[0m in \u001b[0;36mcheck_response\u001b[1;34m(self, response)\u001b[0m\n\u001b[0;32m    240\u001b[0m                 \u001b[0malert_text\u001b[0m \u001b[1;33m=\u001b[0m \u001b[0mvalue\u001b[0m\u001b[1;33m[\u001b[0m\u001b[1;34m'alert'\u001b[0m\u001b[1;33m]\u001b[0m\u001b[1;33m.\u001b[0m\u001b[0mget\u001b[0m\u001b[1;33m(\u001b[0m\u001b[1;34m'text'\u001b[0m\u001b[1;33m)\u001b[0m\u001b[1;33m\u001b[0m\u001b[1;33m\u001b[0m\u001b[0m\n\u001b[0;32m    241\u001b[0m             \u001b[1;32mraise\u001b[0m \u001b[0mexception_class\u001b[0m\u001b[1;33m(\u001b[0m\u001b[0mmessage\u001b[0m\u001b[1;33m,\u001b[0m \u001b[0mscreen\u001b[0m\u001b[1;33m,\u001b[0m \u001b[0mstacktrace\u001b[0m\u001b[1;33m,\u001b[0m \u001b[0malert_text\u001b[0m\u001b[1;33m)\u001b[0m\u001b[1;33m\u001b[0m\u001b[1;33m\u001b[0m\u001b[0m\n\u001b[1;32m--> 242\u001b[1;33m         \u001b[1;32mraise\u001b[0m \u001b[0mexception_class\u001b[0m\u001b[1;33m(\u001b[0m\u001b[0mmessage\u001b[0m\u001b[1;33m,\u001b[0m \u001b[0mscreen\u001b[0m\u001b[1;33m,\u001b[0m \u001b[0mstacktrace\u001b[0m\u001b[1;33m)\u001b[0m\u001b[1;33m\u001b[0m\u001b[1;33m\u001b[0m\u001b[0m\n\u001b[0m\u001b[0;32m    243\u001b[0m \u001b[1;33m\u001b[0m\u001b[0m\n\u001b[0;32m    244\u001b[0m     \u001b[1;32mdef\u001b[0m \u001b[0m_value_or_default\u001b[0m\u001b[1;33m(\u001b[0m\u001b[0mself\u001b[0m\u001b[1;33m,\u001b[0m \u001b[0mobj\u001b[0m\u001b[1;33m,\u001b[0m \u001b[0mkey\u001b[0m\u001b[1;33m,\u001b[0m \u001b[0mdefault\u001b[0m\u001b[1;33m)\u001b[0m\u001b[1;33m:\u001b[0m\u001b[1;33m\u001b[0m\u001b[1;33m\u001b[0m\u001b[0m\n",
      "\u001b[1;31mWebDriverException\u001b[0m: Message: unknown error: cannot determine loading status\nfrom unknown error: unexpected command response\n  (Session info: chrome=103.0.5060.134)\n"
     ]
    }
   ],
   "source": [
    "search_word = \"ローソン\"\n",
    "lists_LAWSON = []\n",
    "English_word = \"LAWSON\"\n",
    "\n",
    "scrape_module5.scrape_convenience(search_word, lists_LAWSON, English_word)"
   ]
  },
  {
   "cell_type": "code",
   "execution_count": null,
   "metadata": {},
   "outputs": [
    {
     "name": "stdout",
     "output_type": "stream",
     "text": [
      "['7Eleven上芦別店', '43.495533741317985', '142.20459182934997']\n",
      "['7Eleven上湧別店', '44.182295239399', '143.59073347633']\n",
      "['7Eleven訓子府店', '43.72692047119', '143.73819841741']\n",
      "['7Eleven砂川北店', '43.533113566094016', '141.91984704349']\n",
      "['7Eleven中札内店', '42.70094596305401', '143.13383116606997']\n",
      "['7Eleven東藻琴店', '43.84326907994301', '144.28836979775997']\n",
      "['7Eleven更別店', '42.649223441131994', '143.19364561917996']\n",
      "['7Eleven中士幌店', '43.09527351521601', '143.22920468020004']\n",
      "['7Eleven東旭川店', '43.771498823575', '142.43247240157996']\n",
      "['7Eleven女満別店', '43.914075770728004', '144.17527086333007']\n",
      "['7Eleven愛別町店', '43.90863996441399', '142.57295801730004']\n",
      "['7Eleven小樽緑店', '43.18495588655898', '140.98691273193003']\n",
      "['7Eleven北恵庭店', '42.901779701318986', '141.55723060317996']\n",
      "['7Eleven鹿部町店', '42.03047927580698', '140.82475130379999']\n",
      "['7Eleven深川東店', '43.724582456908024', '142.06157789199005']\n",
      "['7Eleven阿寒町店', '43.11301057440599', '144.12487484012001']\n",
      "['7Eleven浦幌町店', '42.811752235124004', '143.65523128272002']\n",
      "['7Eleven渡島森店', '42.09520852864404', '140.57254856006']\n",
      "['7Eleven乙部町店', '41.967982583679', '140.13386139017996']\n",
      "['7Eleven上川町店', '43.84358067632499', '142.76688098148998']\n",
      "['7Eleven栗沢町店', '43.11983889683103', '141.74778251102998']\n",
      "['7Eleven士幌町店', '43.16970418303703', '143.24797424605003']\n",
      "['7Eleven知内町店', '41.600081112352', '140.41840304727998']\n",
      "['7Eleven端野町店', '43.856430312643', '143.94554944999004']\n",
      "['7Eleven月形町店', '43.330836957066', '141.6634510555']\n",
      "['7Eleven湧別町店', '44.22035460013396', '143.6142172425']\n",
      "['7Eleven和寒町店', '44.031375550349', '142.41090552614003']\n",
      "['7Eleven静内旭店', '42.34534302647299', '142.37526940185']\n",
      "['7Eleven標津町店', '43.655921603530004', '145.13303553862']\n",
      "['7Eleven長沼町店', '43.00595708075099', '141.70545937613997']\n",
      "['7Eleven増毛町店', '43.85620962250701', '141.51735438620995']\n",
      "['7Elevenニセコ店', '42.812259203589974', '140.67760061995']\n",
      "['7Eleven旭川曙店', '43.77143087042796', '142.34003383174002']\n",
      "['7Eleven千歳寿店', '42.83026241955699', '141.68371765653']\n",
      "['7Eleven長万部店', '42.51616918838201', '140.37938055173004']\n",
      "['7Eleven豊平5条店', '43.052562523676016', '141.36717078873994']\n",
      "['7Eleven西帯広店', '42.92048925914102', '143.11724008581996']\n",
      "['7Eleven北27条店', '43.09633286958902', '141.32379427950002']\n",
      "['7Eleven南5条店', '43.053451459455005', '141.34549086747006']\n",
      "['7Eleven南7条店', '43.05083282619901', '141.34185448775997']\n",
      "['7Eleven深川4条店', '43.716966571030014', '142.03727125864998']\n",
      "['7Eleven北11条店', '43.07516131220402', '141.35296173525']\n",
      "['7ElevenKOYO北海道がんセンター店', '43.058110423154005', '141.37456126835002']\n",
      "['7Eleven別海宮舞店', '43.39472208022997', '145.12400453029']\n",
      "['7Eleven北海道ST函館店', '41.773752535841', '140.72618427549003']\n",
      "['7Eleven北海道ST南小樽店', '43.187161205831956', '141.00766903902002']\n",
      "['7Eleven北海道ST小樽店', '43.19755331957697', '140.99371033692']\n",
      "['7Eleven北海道ST真駒内店', '42.991520411571', '141.35847840946997']\n"
     ]
    }
   ],
   "source": [
    "scrape_module5.show_lists(lists_LAWSON)"
   ]
  },
  {
   "cell_type": "code",
   "execution_count": null,
   "metadata": {},
   "outputs": [],
   "source": [
    "scrape_module5.write_elem(lists_LAWSON, \"LAWSON\")"
   ]
  }
 ],
 "metadata": {
  "kernelspec": {
   "display_name": "Python 3.8.12 ('py38')",
   "language": "python",
   "name": "python3"
  },
  "language_info": {
   "codemirror_mode": {
    "name": "ipython",
    "version": 3
   },
   "file_extension": ".py",
   "mimetype": "text/x-python",
   "name": "python",
   "nbconvert_exporter": "python",
   "pygments_lexer": "ipython3",
   "version": "3.8.12"
  },
  "orig_nbformat": 4,
  "vscode": {
   "interpreter": {
    "hash": "f5e3262b98ad20e887e1fb690ac09d67b07404b00d992e14062cb8835541b800"
   }
  }
 },
 "nbformat": 4,
 "nbformat_minor": 2
}
