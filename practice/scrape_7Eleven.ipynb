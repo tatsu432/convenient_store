{
 "cells": [
  {
   "cell_type": "code",
   "execution_count": 1,
   "metadata": {},
   "outputs": [],
   "source": [
    "# import the modules and libraries\n",
    "from selenium import webdriver\n",
    "from time import sleep\n",
    "from selenium.webdriver.common.keys import Keys\n",
    "import requests\n",
    "from bs4 import BeautifulSoup\n",
    "import re"
   ]
  },
  {
   "cell_type": "code",
   "execution_count": 5,
   "metadata": {},
   "outputs": [],
   "source": [
    "# https://chromedriver.chromium.org/downloads\n",
    "# version 103r\"C:\\Users\\81808\\document1\\chromedriver.exe\"\n",
    "# define the driver\n",
    "# please specify your driver\n",
    "driver = webdriver.Chrome(r\"C:\\Users\\81808\\document1\\chromedriver.exe\")\n",
    "sleep(2)"
   ]
  },
  {
   "cell_type": "code",
   "execution_count": 6,
   "metadata": {},
   "outputs": [],
   "source": [
    "# define all prefectures in Japan\n",
    "# Japanese words mean each prefecture in Japan like Tokyo, Kyoto\n",
    "prefectures = ['北海道','青森県','岩手県','宮城県','秋田県','山形県','福島県','茨城県','栃木県','群馬県','埼玉県', '千葉県','東京都','神奈川県','新潟県','富山県','石川県','福井県','山梨県','長野県','岐阜県','静岡県','愛知県','三重県','滋賀県','京都府','大阪府','兵庫県','奈良県','和歌山県','鳥取県','島根県','岡山県','広島県','山口県','徳島県','香川県','愛媛県','高知県','福岡県','佐賀県','長崎県','熊本県','大分県','宮崎県','鹿児島県','沖縄県']"
   ]
  },
  {
   "cell_type": "code",
   "execution_count": 8,
   "metadata": {},
   "outputs": [],
   "source": [
    "def change(name):\n",
    "    # substitute for the weird words\n",
    "    table = str.maketrans({\n",
    "        '\\u3000': ' ',\n",
    "        ' ': '',\n",
    "        '\\t': ''\n",
    "    })\n",
    "    name = name.translate(table)\n",
    "    \n",
    "    # full-width to half-width\n",
    "    name = name.translate(str.maketrans({chr(0xFF01 + i): chr(0x21 + i) for i in range(94)}))\n",
    "    \n",
    "    return name"
   ]
  },
  {
   "cell_type": "code",
   "execution_count": 11,
   "metadata": {},
   "outputs": [],
   "source": [
    "# scrape the name, latitude, and longitude of IKEA in MapFan\n",
    "\n",
    "# define the search word and output list\n",
    "search_word = \"セブンイレブン\"\n",
    "lists_7ELEVEN = []\n",
    "\n",
    "# loop for each prefecture\n",
    "for prefecture in prefectures:\n",
    "      \n",
    "    # go to the MapFan site\n",
    "    driver.get('https://mapfan.com/map/spots/search?c=35.681195934673795,139.7672311841094,12&s=std,pc,ja&p=none')\n",
    "    sleep(1)        \n",
    "\n",
    "    # search the search bar\n",
    "    # enter the search word\n",
    "    # get the result of the search\n",
    "    search_input = driver.find_element_by_xpath('/html/body/mf-root/div/mat-sidenav-container/mat-sidenav-content/mf-map-page-map/mat-sidenav-container/mat-sidenav-content/div/div[1]/mf-map-page-search/div/form/mat-toolbar/mat-toolbar-row/mf-suggest-field/mat-form-field/div/div[1]/div[3]/input')\n",
    "    search_input.send_keys(\"{} {}\".format(search_word, prefecture))\n",
    "    search_input.send_keys(Keys.ENTER)\n",
    "\n",
    "\n",
    "    # loop for name list\n",
    "    for elemh4 in driver.find_elements_by_xpath('//h4'):\n",
    "        elem = elemh4.find_element_by_xpath(\"../../..\")\n",
    "        \n",
    "        # click one of the componenets in the list\n",
    "        elem.click()\n",
    "        sleep(1)\n",
    "        \n",
    "        # get the url of the component\n",
    "        s = driver.current_url\n",
    "        list = []\n",
    "        \n",
    "        # search latitude and longitude by regular expression\n",
    "        match = re.search(r'c=(\\d+.\\d+),(\\d+.\\d+)', s)\n",
    "        \n",
    "        # get latitude and longitude\n",
    "        try:\n",
    "            latitude = match.group(1)\n",
    "            longitude = match.group(2)\n",
    "        except: \n",
    "            pass\n",
    "        \n",
    "        # get the name of the component\n",
    "        name = elemh4.text\n",
    "        \n",
    "        # chage to half-width and alter wierd words\n",
    "        name = change(name)\n",
    "        \n",
    "            \n",
    "        # find the IKEA by regular expression\n",
    "        if re.compile(r\"^セブンイレブン.+?\").search(name):\n",
    "            \n",
    "            # append the name, latitude, and longitude\n",
    "            name = name.replace(\"セブンイレブン\", \"7ELEVEN\", 1)\n",
    "                        \n",
    "            list.append(name)\n",
    "            list.append(latitude)\n",
    "            list.append(longitude)\n",
    "            lists_7ELEVEN.append(list)"
   ]
  },
  {
   "cell_type": "code",
   "execution_count": 1,
   "metadata": {},
   "outputs": [
    {
     "ename": "NameError",
     "evalue": "name 'lists_7ELEVEN' is not defined",
     "output_type": "error",
     "traceback": [
      "\u001b[1;31m---------------------------------------------------------------------------\u001b[0m",
      "\u001b[1;31mNameError\u001b[0m                                 Traceback (most recent call last)",
      "\u001b[1;32m~\\AppData\\Local\\Temp/ipykernel_20556/3047874678.py\u001b[0m in \u001b[0;36m<module>\u001b[1;34m\u001b[0m\n\u001b[0;32m      1\u001b[0m \u001b[1;31m# show the lists of IKEA\u001b[0m\u001b[1;33m\u001b[0m\u001b[1;33m\u001b[0m\u001b[1;33m\u001b[0m\u001b[0m\n\u001b[1;32m----> 2\u001b[1;33m \u001b[1;32mfor\u001b[0m \u001b[0mi\u001b[0m \u001b[1;32min\u001b[0m \u001b[0mrange\u001b[0m\u001b[1;33m(\u001b[0m\u001b[0mlen\u001b[0m\u001b[1;33m(\u001b[0m\u001b[0mlists_7ELEVEN\u001b[0m\u001b[1;33m)\u001b[0m\u001b[1;33m)\u001b[0m\u001b[1;33m:\u001b[0m\u001b[1;33m\u001b[0m\u001b[1;33m\u001b[0m\u001b[0m\n\u001b[0m\u001b[0;32m      3\u001b[0m     \u001b[0mprint\u001b[0m\u001b[1;33m(\u001b[0m\u001b[0mlists_7ELEVEN\u001b[0m\u001b[1;33m[\u001b[0m\u001b[0mi\u001b[0m\u001b[1;33m]\u001b[0m\u001b[1;33m)\u001b[0m\u001b[1;33m\u001b[0m\u001b[1;33m\u001b[0m\u001b[0m\n",
      "\u001b[1;31mNameError\u001b[0m: name 'lists_7ELEVEN' is not defined"
     ]
    }
   ],
   "source": [
    "# show the lists of IKEA\n",
    "for i in range(len(lists_7ELEVEN)):\n",
    "    print(lists_7ELEVEN[i])"
   ]
  },
  {
   "cell_type": "code",
   "execution_count": null,
   "metadata": {},
   "outputs": [],
   "source": []
  }
 ],
 "metadata": {
  "kernelspec": {
   "display_name": "Python 3.8.12 ('py38')",
   "language": "python",
   "name": "python3"
  },
  "language_info": {
   "codemirror_mode": {
    "name": "ipython",
    "version": 3
   },
   "file_extension": ".py",
   "mimetype": "text/x-python",
   "name": "python",
   "nbconvert_exporter": "python",
   "pygments_lexer": "ipython3",
   "version": "3.8.12"
  },
  "orig_nbformat": 4,
  "vscode": {
   "interpreter": {
    "hash": "f5e3262b98ad20e887e1fb690ac09d67b07404b00d992e14062cb8835541b800"
   }
  }
 },
 "nbformat": 4,
 "nbformat_minor": 2
}
